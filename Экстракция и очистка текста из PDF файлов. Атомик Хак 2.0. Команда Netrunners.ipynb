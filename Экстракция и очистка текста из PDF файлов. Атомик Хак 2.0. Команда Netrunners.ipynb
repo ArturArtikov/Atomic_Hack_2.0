{
  "nbformat": 4,
  "nbformat_minor": 0,
  "metadata": {
    "colab": {
      "provenance": [],
      "include_colab_link": true
    },
    "kernelspec": {
      "name": "python3",
      "display_name": "Python 3"
    },
    "language_info": {
      "name": "python"
    }
  },
  "cells": [
    {
      "cell_type": "markdown",
      "metadata": {
        "id": "view-in-github",
        "colab_type": "text"
      },
      "source": [
        "<a href=\"https://colab.research.google.com/github/ArturArtikov/Atomic_Hack_2.0/blob/main/%D0%AD%D0%BA%D1%81%D1%82%D1%80%D0%B0%D0%BA%D1%86%D0%B8%D1%8F%20%D0%B8%20%D0%BE%D1%87%D0%B8%D1%81%D1%82%D0%BA%D0%B0%20%D1%82%D0%B5%D0%BA%D1%81%D1%82%D0%B0%20%D0%B8%D0%B7%20PDF%20%D1%84%D0%B0%D0%B9%D0%BB%D0%BE%D0%B2.%20%D0%90%D1%82%D0%BE%D0%BC%D0%B8%D0%BA%20%D0%A5%D0%B0%D0%BA%202.0.%20%D0%9A%D0%BE%D0%BC%D0%B0%D0%BD%D0%B4%D0%B0%20Netrunners.ipynb\" target=\"_parent\"><img src=\"https://colab.research.google.com/assets/colab-badge.svg\" alt=\"Open In Colab\"/></a>"
      ]
    },
    {
      "cell_type": "code",
      "source": [
        "from google.colab import drive\n",
        "drive.mount('/content/drive')"
      ],
      "metadata": {
        "id": "j9oleP5WsnsA",
        "colab": {
          "base_uri": "https://localhost:8080/"
        },
        "outputId": "71ca0d8f-efde-4bda-f644-90a9c64692ea"
      },
      "execution_count": 2,
      "outputs": [
        {
          "output_type": "stream",
          "name": "stdout",
          "text": [
            "Mounted at /content/drive\n"
          ]
        }
      ]
    },
    {
      "cell_type": "code",
      "source": [
        "!pip install pdfminer\n",
        "!pip install pdfminer.six"
      ],
      "metadata": {
        "colab": {
          "base_uri": "https://localhost:8080/"
        },
        "id": "QJWDQRCftY33",
        "outputId": "397eb353-7f22-4a8a-eceb-2e9c3dd62fea"
      },
      "execution_count": 4,
      "outputs": [
        {
          "output_type": "stream",
          "name": "stdout",
          "text": [
            "Collecting pdfminer\n",
            "  Downloading pdfminer-20191125.tar.gz (4.2 MB)\n",
            "\u001b[2K     \u001b[90m━━━━━━━━━━━━━━━━━━━━━━━━━━━━━━━━━━━━━━━━\u001b[0m \u001b[32m4.2/4.2 MB\u001b[0m \u001b[31m28.7 MB/s\u001b[0m eta \u001b[36m0:00:00\u001b[0m\n",
            "\u001b[?25h  Preparing metadata (setup.py) ... \u001b[?25l\u001b[?25hdone\n",
            "Collecting pycryptodome (from pdfminer)\n",
            "  Downloading pycryptodome-3.20.0-cp35-abi3-manylinux_2_17_x86_64.manylinux2014_x86_64.whl (2.1 MB)\n",
            "\u001b[2K     \u001b[90m━━━━━━━━━━━━━━━━━━━━━━━━━━━━━━━━━━━━━━━━\u001b[0m \u001b[32m2.1/2.1 MB\u001b[0m \u001b[31m58.1 MB/s\u001b[0m eta \u001b[36m0:00:00\u001b[0m\n",
            "\u001b[?25hBuilding wheels for collected packages: pdfminer\n",
            "  Building wheel for pdfminer (setup.py) ... \u001b[?25l\u001b[?25hdone\n",
            "  Created wheel for pdfminer: filename=pdfminer-20191125-py3-none-any.whl size=6140083 sha256=020524bdfea3fff23cb0a3cc1292e7cece15ee746ab91e1b7aa304f96a6e259c\n",
            "  Stored in directory: /root/.cache/pip/wheels/4e/c1/68/f7bd0a8f514661f76b5cbe3b5f76e0033d79f1296012cbbf72\n",
            "Successfully built pdfminer\n",
            "Installing collected packages: pycryptodome, pdfminer\n",
            "Successfully installed pdfminer-20191125 pycryptodome-3.20.0\n",
            "Collecting pdfminer.six\n",
            "  Downloading pdfminer.six-20231228-py3-none-any.whl (5.6 MB)\n",
            "\u001b[2K     \u001b[90m━━━━━━━━━━━━━━━━━━━━━━━━━━━━━━━━━━━━━━━━\u001b[0m \u001b[32m5.6/5.6 MB\u001b[0m \u001b[31m13.1 MB/s\u001b[0m eta \u001b[36m0:00:00\u001b[0m\n",
            "\u001b[?25hRequirement already satisfied: charset-normalizer>=2.0.0 in /usr/local/lib/python3.10/dist-packages (from pdfminer.six) (3.3.2)\n",
            "Requirement already satisfied: cryptography>=36.0.0 in /usr/local/lib/python3.10/dist-packages (from pdfminer.six) (42.0.8)\n",
            "Requirement already satisfied: cffi>=1.12 in /usr/local/lib/python3.10/dist-packages (from cryptography>=36.0.0->pdfminer.six) (1.16.0)\n",
            "Requirement already satisfied: pycparser in /usr/local/lib/python3.10/dist-packages (from cffi>=1.12->cryptography>=36.0.0->pdfminer.six) (2.22)\n",
            "Installing collected packages: pdfminer.six\n",
            "Successfully installed pdfminer.six-20231228\n"
          ]
        }
      ]
    },
    {
      "cell_type": "markdown",
      "source": [
        "## Экстракция текста из PDF-файлов"
      ],
      "metadata": {
        "id": "yHo-c94BNv97"
      }
    },
    {
      "cell_type": "code",
      "source": [
        "from pdfminer.high_level import extract_text\n",
        "import pandas as pd\n",
        "import os\n",
        "import string\n",
        "import re"
      ],
      "metadata": {
        "id": "hfmAfBmvtc-q"
      },
      "execution_count": 5,
      "outputs": []
    },
    {
      "cell_type": "markdown",
      "source": [
        "Ниже можно увидеть парсер, основанный на применении библиотеки PDFMiner. С ее помощью текст каждого документа делится на куски по 256 слов, что позволяет добавлять его дозирванно в данные, что также помогает более качественно обучать модель"
      ],
      "metadata": {
        "id": "5w1iCCthN1cZ"
      }
    },
    {
      "cell_type": "code",
      "source": [
        "PATH = '/content/drive/MyDrive/AtomicHack/Для Хакатона'\n",
        "files = os.listdir(PATH)\n",
        "\n",
        "for name in files:\n",
        "  text = extract_text(PATH+'/'+name)\n",
        "\n",
        "  list_of_word = list()\n",
        "  list_of_text = list()\n",
        "\n",
        "  for word in text.split():\n",
        "    if len(list_of_word) < 256:\n",
        "      list_of_word.append(word)\n",
        "    else:\n",
        "      list_of_text.append(list_of_word)\n",
        "      list_of_word = list()\n",
        "  list_of_text.append(list_of_word)\n",
        "\n",
        "  paragraphs = {'Текст файла': list_of_text}\n",
        "  data = pd.DataFrame(paragraphs)\n",
        "  data.to_csv(name.replace('.pdf', '.csv'), index=False)"
      ],
      "metadata": {
        "id": "c7EKgNgyteFW"
      },
      "execution_count": 6,
      "outputs": []
    },
    {
      "cell_type": "markdown",
      "source": [
        "## Предобработка текста\n",
        "\n",
        "Код ниже получает на вход файлы в формате .csv, после чего проводит их обработку от ненужных символов, а также дополнительно очищает текст от символов, оставшихся после экстракции текста, и не влияющих на него."
      ],
      "metadata": {
        "id": "QfkwViz6W658"
      }
    },
    {
      "cell_type": "code",
      "source": [
        "folder_path = '/content/drive/MyDrive/AtomicHack/Файлы данных в CSV'\n",
        "\n",
        "files = os.listdir(folder_path)\n",
        "\n",
        "def custom_lower(text):\n",
        "    words = text.split()\n",
        "    result_words = []\n",
        "\n",
        "    for word in words:\n",
        "        if word.isupper():\n",
        "            result_words.append(word)\n",
        "        else:\n",
        "            result_words.append(word.lower())\n",
        "\n",
        "    return ' '.join(result_words)\n",
        "\n",
        "def process_text(text):\n",
        "    text = custom_lower(text)\n",
        "    text = text.translate(str.maketrans('', '', string.punctuation))\n",
        "    text = re.sub(r'[“”«»()\\[\\]]', '', text)\n",
        "    text = text.strip('[“”«»()\\[\\]]')\n",
        "    return text\n",
        "\n",
        "for file_name in files:\n",
        "    if file_name.endswith('.csv'):\n",
        "        file_path = os.path.join(folder_path, file_name)\n",
        "\n",
        "        data = pd.read_csv(file_path, header=None)\n",
        "\n",
        "        processed_data = data.applymap(process_text)\n",
        "        processed_data.to_csv(f'processed_{file_name}', index=False)\n",
        "\n",
        "        print(f\"Предпроцессинг текста для файла {file_name} завершен. Обработанные данные сохранены в:\", processed_file_path_name)\n",
        "\n",
        "print(\"Предпроцессинг текста для всех файлов завершен.\")"
      ],
      "metadata": {
        "colab": {
          "base_uri": "https://localhost:8080/"
        },
        "id": "oDADTg32W6s4",
        "outputId": "3c22d14a-b2fa-4349-85a7-5bf153f4c20f"
      },
      "execution_count": 8,
      "outputs": [
        {
          "output_type": "stream",
          "name": "stdout",
          "text": [
            "Предпроцессинг текста для файла D-1C1-1.05.01 Планирование работы ТС.csv завершен. Обработанные данные сохранены в: /content/drive/My Drive/Processed 2/processed_D-1C1-1.05.01 Планирование работы ТС.csv\n",
            "Предпроцессинг текста для файла D-1C1-1.18.03 Реализация продукции товаров работ услуг и прочая реализация_v26.csv завершен. Обработанные данные сохранены в: /content/drive/My Drive/Processed 2/processed_D-1C1-1.05.01 Планирование работы ТС.csv\n",
            "Предпроцессинг текста для файла Инструкция D-1C1-1.01.01 Универсальное согласование документов _v6.csv завершен. Обработанные данные сохранены в: /content/drive/My Drive/Processed 2/processed_D-1C1-1.05.01 Планирование работы ТС.csv\n",
            "Предпроцессинг текста для файла Инструкция D-1C1-1.01.07 Формирование заявки на платеж.csv завершен. Обработанные данные сохранены в: /content/drive/My Drive/Processed 2/processed_D-1C1-1.05.01 Планирование работы ТС.csv\n",
            "Предпроцессинг текста для файла Инструкция D-1C1-1.01.09 Формирование платежных поручений (НФ) (5) (1).csv завершен. Обработанные данные сохранены в: /content/drive/My Drive/Processed 2/processed_D-1C1-1.05.01 Планирование работы ТС.csv\n",
            "Предпроцессинг текста для файла Инструкция D-1C1-1.03.04 Выпуск продукции услуг работ собственным производством (НФ) (5) (2).csv завершен. Обработанные данные сохранены в: /content/drive/My Drive/Processed 2/processed_D-1C1-1.05.01 Планирование работы ТС.csv\n",
            "Предпроцессинг текста для файла Инструкция D-1C1-1.04.12 Учет договоров длительного технологического цикла_v26.csv завершен. Обработанные данные сохранены в: /content/drive/My Drive/Processed 2/processed_D-1C1-1.05.01 Планирование работы ТС.csv\n",
            "Предпроцессинг текста для файла Инструкция D-1C1-1.10.02 Учет денежных документов в кассе_v2 (НФ).csv завершен. Обработанные данные сохранены в: /content/drive/My Drive/Processed 2/processed_D-1C1-1.05.01 Планирование работы ТС.csv\n",
            "Предпроцессинг текста для файла Инструкция D-1C1-1.10.04 Учет банковских операций (НФ)_v2 (28) (1).csv завершен. Обработанные данные сохранены в: /content/drive/My Drive/Processed 2/processed_D-1C1-1.05.01 Планирование работы ТС.csv\n",
            "Предпроцессинг текста для файла Инструкция D-1C1-1.10.10 Учет результатов инвентаризации объектов учета ВНА, РБП, ДБП.csv завершен. Обработанные данные сохранены в: /content/drive/My Drive/Processed 2/processed_D-1C1-1.05.01 Планирование работы ТС.csv\n",
            "Предпроцессинг текста для файла Инструкция D-1C1-1.10.14  Учет НДС_v7.csv завершен. Обработанные данные сохранены в: /content/drive/My Drive/Processed 2/processed_D-1C1-1.05.01 Планирование работы ТС.csv\n",
            "Предпроцессинг текста для файла Инструкция D-1C1-1.10.19 Формирование налоговой декларации по НП-v3.csv завершен. Обработанные данные сохранены в: /content/drive/My Drive/Processed 2/processed_D-1C1-1.05.01 Планирование работы ТС.csv\n",
            "Предпроцессинг текста для файла Инструкция D-1C1-1.10.25 Учет расчетов по заработной плате3 (НФ).csv завершен. Обработанные данные сохранены в: /content/drive/My Drive/Processed 2/processed_D-1C1-1.05.01 Планирование работы ТС.csv\n",
            "Предпроцессинг текста для файла Инструкция D-1C1-1.10.39 Сверка взаиморасчетов с контрагентами.csv завершен. Обработанные данные сохранены в: /content/drive/My Drive/Processed 2/processed_D-1C1-1.05.01 Планирование работы ТС.csv\n",
            "Предпроцессинг текста для файла Инструкция D-1C1-1.10.41 Учет операций при закрытии периода (НФ).csv завершен. Обработанные данные сохранены в: /content/drive/My Drive/Processed 2/processed_D-1C1-1.05.01 Планирование работы ТС.csv\n",
            "Предпроцессинг текста для файла Инструкция D-1C1-1.10.47 Учет резервов по сомнительным долгам.csv завершен. Обработанные данные сохранены в: /content/drive/My Drive/Processed 2/processed_D-1C1-1.05.01 Планирование работы ТС.csv\n",
            "Предпроцессинг текста для файла Инструкция D-1C1-1.13.01 Ведение договоров на закупку ТМЦ работ и услуг (НФ) (3).csv завершен. Обработанные данные сохранены в: /content/drive/My Drive/Processed 2/processed_D-1C1-1.05.01 Планирование работы ТС.csv\n",
            "Предпроцессинг текста для файла Инструкция D-1C1-1.19.01 Поступление ТМЦ на склад предприятия от поставщиков_v18.csv завершен. Обработанные данные сохранены в: /content/drive/My Drive/Processed 2/processed_D-1C1-1.05.01 Планирование работы ТС.csv\n",
            "Предпроцессинг текста для файла Инструкция D-1C1-1.20.02 Анализ взаиморасчетов по закупкам (1).csv завершен. Обработанные данные сохранены в: /content/drive/My Drive/Processed 2/processed_D-1C1-1.05.01 Планирование работы ТС.csv\n",
            "Предпроцессинг текста для файла Инструкция D-1C1-1.22.01 Приложение 5 Обработка по корректировке графиков.csv завершен. Обработанные данные сохранены в: /content/drive/My Drive/Processed 2/processed_D-1C1-1.05.01 Планирование работы ТС.csv\n",
            "Предпроцессинг текста для файла Инструкция D-1C1-1.27.10 Учет договоров обеспечения и платежей по обеспечению.csv завершен. Обработанные данные сохранены в: /content/drive/My Drive/Processed 2/processed_D-1C1-1.05.01 Планирование работы ТС.csv\n",
            "Предпроцессинг текста для файла Инструкция Интеграция с ЕОСДО v5.csv завершен. Обработанные данные сохранены в: /content/drive/My Drive/Processed 2/processed_D-1C1-1.05.01 Планирование работы ТС.csv\n",
            "Предпроцессинг текста для файла Инструкция Настройки регламентированного учета.csv завершен. Обработанные данные сохранены в: /content/drive/My Drive/Processed 2/processed_D-1C1-1.05.01 Планирование работы ТС.csv\n",
            "Предпроцессинг текста для файла Инструкция администратора Настройка ограничения прав доступа пользователей по ЦФО и статьям бюджетов для АО Гринатом.csv завершен. Обработанные данные сохранены в: /content/drive/My Drive/Processed 2/processed_D-1C1-1.05.01 Планирование работы ТС.csv\n",
            "Предпроцессинг текста для файла Инструкция администратора Описание настроек подсистемы бюджетирования для АО Гринатом.csv завершен. Обработанные данные сохранены в: /content/drive/My Drive/Processed 2/processed_D-1C1-1.05.01 Планирование работы ТС.csv\n",
            "Предпроцессинг текста для всех файлов завершен.\n"
          ]
        }
      ]
    }
  ]
}